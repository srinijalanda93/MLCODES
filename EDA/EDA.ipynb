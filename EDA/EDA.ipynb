{
 "cells": [
  {
   "cell_type": "code",
   "execution_count": 92,
   "metadata": {},
   "outputs": [],
   "source": [
    "### EDA \n",
    "# import all the neccessary Libaries\n",
    "import pandas as pd\n",
    "import matplotlib.pyplot as plt\n",
    "import seaborn as sns"
   ]
  },
  {
   "cell_type": "code",
   "execution_count": 93,
   "metadata": {},
   "outputs": [],
   "source": [
    "#load the csv files\n",
    "# get the error we need to encode it \n",
    "dataset=pd.read_csv('./zomato.csv',encoding='latin-1') \n",
    "#print(dataset)"
   ]
  },
  {
   "cell_type": "code",
   "execution_count": 94,
   "metadata": {},
   "outputs": [
    {
     "data": {
      "text/plain": [
       "Index(['Restaurant ID', 'Restaurant Name', 'Country Code', 'City', 'Address',\n",
       "       'Locality', 'Locality Verbose', 'Longitude', 'Latitude', 'Cuisines',\n",
       "       'Average Cost for two', 'Currency', 'Has Table booking',\n",
       "       'Has Online delivery', 'Is delivering now', 'Switch to order menu',\n",
       "       'Price range', 'Aggregate rating', 'Rating color', 'Rating text',\n",
       "       'Votes'],\n",
       "      dtype='object')"
      ]
     },
     "execution_count": 94,
     "metadata": {},
     "output_type": "execute_result"
    }
   ],
   "source": [
    "# to know the attribute of the dataset\n",
    "dataset.columns"
   ]
  },
  {
   "cell_type": "code",
   "execution_count": 95,
   "metadata": {},
   "outputs": [
    {
     "data": {
      "text/html": [
       "<div>\n",
       "<style scoped>\n",
       "    .dataframe tbody tr th:only-of-type {\n",
       "        vertical-align: middle;\n",
       "    }\n",
       "\n",
       "    .dataframe tbody tr th {\n",
       "        vertical-align: top;\n",
       "    }\n",
       "\n",
       "    .dataframe thead th {\n",
       "        text-align: right;\n",
       "    }\n",
       "</style>\n",
       "<table border=\"1\" class=\"dataframe\">\n",
       "  <thead>\n",
       "    <tr style=\"text-align: right;\">\n",
       "      <th></th>\n",
       "      <th>Restaurant ID</th>\n",
       "      <th>Restaurant Name</th>\n",
       "      <th>Country Code</th>\n",
       "      <th>City</th>\n",
       "      <th>Address</th>\n",
       "      <th>Locality</th>\n",
       "      <th>Locality Verbose</th>\n",
       "      <th>Longitude</th>\n",
       "      <th>Latitude</th>\n",
       "      <th>Cuisines</th>\n",
       "      <th>...</th>\n",
       "      <th>Currency</th>\n",
       "      <th>Has Table booking</th>\n",
       "      <th>Has Online delivery</th>\n",
       "      <th>Is delivering now</th>\n",
       "      <th>Switch to order menu</th>\n",
       "      <th>Price range</th>\n",
       "      <th>Aggregate rating</th>\n",
       "      <th>Rating color</th>\n",
       "      <th>Rating text</th>\n",
       "      <th>Votes</th>\n",
       "    </tr>\n",
       "  </thead>\n",
       "  <tbody>\n",
       "    <tr>\n",
       "      <th>2186</th>\n",
       "      <td>6690</td>\n",
       "      <td>Citrus Cafe - Lemon Tree Hotel</td>\n",
       "      <td>1</td>\n",
       "      <td>Gurgaon</td>\n",
       "      <td>Lemon Tree Hotel, 886, DLF Phase 5, Udyog Viha...</td>\n",
       "      <td>Udyog Vihar</td>\n",
       "      <td>Udyog Vihar, Gurgaon</td>\n",
       "      <td>77.086710</td>\n",
       "      <td>28.502637</td>\n",
       "      <td>Cafe</td>\n",
       "      <td>...</td>\n",
       "      <td>Indian Rupees(Rs.)</td>\n",
       "      <td>No</td>\n",
       "      <td>No</td>\n",
       "      <td>No</td>\n",
       "      <td>No</td>\n",
       "      <td>4</td>\n",
       "      <td>2.7</td>\n",
       "      <td>Orange</td>\n",
       "      <td>Average</td>\n",
       "      <td>27</td>\n",
       "    </tr>\n",
       "    <tr>\n",
       "      <th>6491</th>\n",
       "      <td>301229</td>\n",
       "      <td>Kitchen King</td>\n",
       "      <td>1</td>\n",
       "      <td>New Delhi</td>\n",
       "      <td>Shop 8, Sector 9 Market, R K Puram, New Delhi</td>\n",
       "      <td>R K Puram</td>\n",
       "      <td>R K Puram, New Delhi</td>\n",
       "      <td>77.172826</td>\n",
       "      <td>28.573454</td>\n",
       "      <td>North Indian, Chinese</td>\n",
       "      <td>...</td>\n",
       "      <td>Indian Rupees(Rs.)</td>\n",
       "      <td>No</td>\n",
       "      <td>Yes</td>\n",
       "      <td>No</td>\n",
       "      <td>No</td>\n",
       "      <td>1</td>\n",
       "      <td>2.6</td>\n",
       "      <td>Orange</td>\n",
       "      <td>Average</td>\n",
       "      <td>53</td>\n",
       "    </tr>\n",
       "    <tr>\n",
       "      <th>6687</th>\n",
       "      <td>837</td>\n",
       "      <td>Pind Balluchi</td>\n",
       "      <td>1</td>\n",
       "      <td>New Delhi</td>\n",
       "      <td>J-2/1, BK Dutt Market, Rajouri Garden, New Delhi</td>\n",
       "      <td>Rajouri Garden</td>\n",
       "      <td>Rajouri Garden, New Delhi</td>\n",
       "      <td>77.120364</td>\n",
       "      <td>28.647660</td>\n",
       "      <td>North Indian, Mughlai</td>\n",
       "      <td>...</td>\n",
       "      <td>Indian Rupees(Rs.)</td>\n",
       "      <td>Yes</td>\n",
       "      <td>No</td>\n",
       "      <td>No</td>\n",
       "      <td>No</td>\n",
       "      <td>2</td>\n",
       "      <td>3.6</td>\n",
       "      <td>Yellow</td>\n",
       "      <td>Good</td>\n",
       "      <td>622</td>\n",
       "    </tr>\n",
       "    <tr>\n",
       "      <th>1051</th>\n",
       "      <td>18424179</td>\n",
       "      <td>Mother's Kitchen</td>\n",
       "      <td>1</td>\n",
       "      <td>Faridabad</td>\n",
       "      <td>B-1212, Ground Floor, Front Side, Green Fields...</td>\n",
       "      <td>Sector 42</td>\n",
       "      <td>Sector 42, Faridabad</td>\n",
       "      <td>0.000000</td>\n",
       "      <td>0.000000</td>\n",
       "      <td>North Indian, Chinese</td>\n",
       "      <td>...</td>\n",
       "      <td>Indian Rupees(Rs.)</td>\n",
       "      <td>No</td>\n",
       "      <td>No</td>\n",
       "      <td>No</td>\n",
       "      <td>No</td>\n",
       "      <td>1</td>\n",
       "      <td>0.0</td>\n",
       "      <td>White</td>\n",
       "      <td>Not rated</td>\n",
       "      <td>0</td>\n",
       "    </tr>\n",
       "    <tr>\n",
       "      <th>843</th>\n",
       "      <td>3001065</td>\n",
       "      <td>Cream Stone</td>\n",
       "      <td>1</td>\n",
       "      <td>Coimbatore</td>\n",
       "      <td>Creamstone , 1335, Avinashi Road, Opposite Bha...</td>\n",
       "      <td>SMS Hotel, Peelamedu</td>\n",
       "      <td>SMS Hotel, Peelamedu, Coimbatore</td>\n",
       "      <td>76.998349</td>\n",
       "      <td>11.022298</td>\n",
       "      <td>Desserts, Ice Cream</td>\n",
       "      <td>...</td>\n",
       "      <td>Indian Rupees(Rs.)</td>\n",
       "      <td>No</td>\n",
       "      <td>No</td>\n",
       "      <td>No</td>\n",
       "      <td>No</td>\n",
       "      <td>1</td>\n",
       "      <td>4.3</td>\n",
       "      <td>Green</td>\n",
       "      <td>Very Good</td>\n",
       "      <td>161</td>\n",
       "    </tr>\n",
       "    <tr>\n",
       "      <th>3761</th>\n",
       "      <td>311601</td>\n",
       "      <td>The Health Box</td>\n",
       "      <td>1</td>\n",
       "      <td>New Delhi</td>\n",
       "      <td>Greater Kailash (GK) 2, New Delhi</td>\n",
       "      <td>Greater Kailash (GK) 2</td>\n",
       "      <td>Greater Kailash (GK) 2, New Delhi</td>\n",
       "      <td>77.242180</td>\n",
       "      <td>28.534120</td>\n",
       "      <td>Healthy Food</td>\n",
       "      <td>...</td>\n",
       "      <td>Indian Rupees(Rs.)</td>\n",
       "      <td>No</td>\n",
       "      <td>Yes</td>\n",
       "      <td>No</td>\n",
       "      <td>No</td>\n",
       "      <td>2</td>\n",
       "      <td>3.5</td>\n",
       "      <td>Yellow</td>\n",
       "      <td>Good</td>\n",
       "      <td>124</td>\n",
       "    </tr>\n",
       "  </tbody>\n",
       "</table>\n",
       "<p>6 rows × 21 columns</p>\n",
       "</div>"
      ],
      "text/plain": [
       "      Restaurant ID                 Restaurant Name  Country Code        City  \\\n",
       "2186           6690  Citrus Cafe - Lemon Tree Hotel             1     Gurgaon   \n",
       "6491         301229                    Kitchen King             1   New Delhi   \n",
       "6687            837                   Pind Balluchi             1   New Delhi   \n",
       "1051       18424179                Mother's Kitchen             1   Faridabad   \n",
       "843         3001065                     Cream Stone             1  Coimbatore   \n",
       "3761         311601                  The Health Box             1   New Delhi   \n",
       "\n",
       "                                                Address  \\\n",
       "2186  Lemon Tree Hotel, 886, DLF Phase 5, Udyog Viha...   \n",
       "6491      Shop 8, Sector 9 Market, R K Puram, New Delhi   \n",
       "6687   J-2/1, BK Dutt Market, Rajouri Garden, New Delhi   \n",
       "1051  B-1212, Ground Floor, Front Side, Green Fields...   \n",
       "843   Creamstone , 1335, Avinashi Road, Opposite Bha...   \n",
       "3761                  Greater Kailash (GK) 2, New Delhi   \n",
       "\n",
       "                    Locality                   Locality Verbose  Longitude  \\\n",
       "2186             Udyog Vihar               Udyog Vihar, Gurgaon  77.086710   \n",
       "6491               R K Puram               R K Puram, New Delhi  77.172826   \n",
       "6687          Rajouri Garden          Rajouri Garden, New Delhi  77.120364   \n",
       "1051               Sector 42               Sector 42, Faridabad   0.000000   \n",
       "843     SMS Hotel, Peelamedu   SMS Hotel, Peelamedu, Coimbatore  76.998349   \n",
       "3761  Greater Kailash (GK) 2  Greater Kailash (GK) 2, New Delhi  77.242180   \n",
       "\n",
       "       Latitude               Cuisines  ...            Currency  \\\n",
       "2186  28.502637                   Cafe  ...  Indian Rupees(Rs.)   \n",
       "6491  28.573454  North Indian, Chinese  ...  Indian Rupees(Rs.)   \n",
       "6687  28.647660  North Indian, Mughlai  ...  Indian Rupees(Rs.)   \n",
       "1051   0.000000  North Indian, Chinese  ...  Indian Rupees(Rs.)   \n",
       "843   11.022298    Desserts, Ice Cream  ...  Indian Rupees(Rs.)   \n",
       "3761  28.534120           Healthy Food  ...  Indian Rupees(Rs.)   \n",
       "\n",
       "     Has Table booking Has Online delivery Is delivering now  \\\n",
       "2186                No                  No                No   \n",
       "6491                No                 Yes                No   \n",
       "6687               Yes                  No                No   \n",
       "1051                No                  No                No   \n",
       "843                 No                  No                No   \n",
       "3761                No                 Yes                No   \n",
       "\n",
       "     Switch to order menu Price range  Aggregate rating  Rating color  \\\n",
       "2186                   No           4               2.7        Orange   \n",
       "6491                   No           1               2.6        Orange   \n",
       "6687                   No           2               3.6        Yellow   \n",
       "1051                   No           1               0.0         White   \n",
       "843                    No           1               4.3         Green   \n",
       "3761                   No           2               3.5        Yellow   \n",
       "\n",
       "     Rating text Votes  \n",
       "2186     Average    27  \n",
       "6491     Average    53  \n",
       "6687        Good   622  \n",
       "1051   Not rated     0  \n",
       "843    Very Good   161  \n",
       "3761        Good   124  \n",
       "\n",
       "[6 rows x 21 columns]"
      ]
     },
     "execution_count": 95,
     "metadata": {},
     "output_type": "execute_result"
    }
   ],
   "source": [
    "dataset.head(10)\n",
    "dataset.tail(12)\n",
    "dataset.sample(6)"
   ]
  },
  {
   "cell_type": "code",
   "execution_count": 96,
   "metadata": {},
   "outputs": [
    {
     "data": {
      "text/plain": [
       "Restaurant ID             int64\n",
       "Restaurant Name          object\n",
       "Country Code              int64\n",
       "City                     object\n",
       "Address                  object\n",
       "Locality                 object\n",
       "Locality Verbose         object\n",
       "Longitude               float64\n",
       "Latitude                float64\n",
       "Cuisines                 object\n",
       "Average Cost for two      int64\n",
       "Currency                 object\n",
       "Has Table booking        object\n",
       "Has Online delivery      object\n",
       "Is delivering now        object\n",
       "Switch to order menu     object\n",
       "Price range               int64\n",
       "Aggregate rating        float64\n",
       "Rating color             object\n",
       "Rating text              object\n",
       "Votes                     int64\n",
       "dtype: object"
      ]
     },
     "execution_count": 96,
     "metadata": {},
     "output_type": "execute_result"
    }
   ],
   "source": [
    "#to know the datatype of the give attributes\n",
    "dataset.dtypes\n",
    "# here the object indicates the string or some other text format"
   ]
  },
  {
   "cell_type": "code",
   "execution_count": 97,
   "metadata": {},
   "outputs": [
    {
     "name": "stdout",
     "output_type": "stream",
     "text": [
      "<class 'pandas.core.frame.DataFrame'>\n",
      "RangeIndex: 9551 entries, 0 to 9550\n",
      "Data columns (total 21 columns):\n",
      " #   Column                Non-Null Count  Dtype  \n",
      "---  ------                --------------  -----  \n",
      " 0   Restaurant ID         9551 non-null   int64  \n",
      " 1   Restaurant Name       9551 non-null   object \n",
      " 2   Country Code          9551 non-null   int64  \n",
      " 3   City                  9551 non-null   object \n",
      " 4   Address               9551 non-null   object \n",
      " 5   Locality              9551 non-null   object \n",
      " 6   Locality Verbose      9551 non-null   object \n",
      " 7   Longitude             9551 non-null   float64\n",
      " 8   Latitude              9551 non-null   float64\n",
      " 9   Cuisines              9542 non-null   object \n",
      " 10  Average Cost for two  9551 non-null   int64  \n",
      " 11  Currency              9551 non-null   object \n",
      " 12  Has Table booking     9551 non-null   object \n",
      " 13  Has Online delivery   9551 non-null   object \n",
      " 14  Is delivering now     9551 non-null   object \n",
      " 15  Switch to order menu  9551 non-null   object \n",
      " 16  Price range           9551 non-null   int64  \n",
      " 17  Aggregate rating      9551 non-null   float64\n",
      " 18  Rating color          9551 non-null   object \n",
      " 19  Rating text           9551 non-null   object \n",
      " 20  Votes                 9551 non-null   int64  \n",
      "dtypes: float64(3), int64(5), object(13)\n",
      "memory usage: 1.5+ MB\n"
     ]
    },
    {
     "data": {
      "text/plain": [
       "9551"
      ]
     },
     "execution_count": 97,
     "metadata": {},
     "output_type": "execute_result"
    }
   ],
   "source": [
    "dataset.info() #this will information about the each column\n",
    "dataset.describe() # statistical format of the table of numerical attributes(columns names)\n",
    "dataset.size #rxc\n",
    "dataset.shape\n",
    "dataset.shape[0]"
   ]
  },
  {
   "cell_type": "code",
   "execution_count": 98,
   "metadata": {},
   "outputs": [
    {
     "data": {
      "text/plain": [
       "Restaurant ID           0\n",
       "Restaurant Name         0\n",
       "Country Code            0\n",
       "City                    0\n",
       "Address                 0\n",
       "Locality                0\n",
       "Locality Verbose        0\n",
       "Longitude               0\n",
       "Latitude                0\n",
       "Cuisines                9\n",
       "Average Cost for two    0\n",
       "Currency                0\n",
       "Has Table booking       0\n",
       "Has Online delivery     0\n",
       "Is delivering now       0\n",
       "Switch to order menu    0\n",
       "Price range             0\n",
       "Aggregate rating        0\n",
       "Rating color            0\n",
       "Rating text             0\n",
       "Votes                   0\n",
       "dtype: int64"
      ]
     },
     "execution_count": 98,
     "metadata": {},
     "output_type": "execute_result"
    }
   ],
   "source": [
    "#in Data analysis we need to do the following tasks\n",
    "'''\n",
    "1.Missing Values\n",
    "2.Explore about the Numerical Values\n",
    "3.Explore about the categorical Values\n",
    "4.Finding the relationship blw features or attributes or columns\n",
    "'''\n",
    "# print(dataset.features)\n",
    "\n",
    "# to know the missing values\n",
    "dataset.isnull().sum()"
   ]
  },
  {
   "cell_type": "code",
   "execution_count": 99,
   "metadata": {},
   "outputs": [
    {
     "name": "stdout",
     "output_type": "stream",
     "text": [
      "['Cuisines']\n"
     ]
    }
   ],
   "source": [
    "#the other way is\n",
    "#[features for x in dataset.columns if dataset[x].isnull().sum()>0]\n",
    "features = [column for column in dataset.columns if dataset[column].isnull().sum() > 0]\n",
    "print(features)"
   ]
  },
  {
   "cell_type": "code",
   "execution_count": 100,
   "metadata": {},
   "outputs": [
    {
     "data": {
      "text/html": [
       "<div>\n",
       "<style scoped>\n",
       "    .dataframe tbody tr th:only-of-type {\n",
       "        vertical-align: middle;\n",
       "    }\n",
       "\n",
       "    .dataframe tbody tr th {\n",
       "        vertical-align: top;\n",
       "    }\n",
       "\n",
       "    .dataframe thead th {\n",
       "        text-align: right;\n",
       "    }\n",
       "</style>\n",
       "<table border=\"1\" class=\"dataframe\">\n",
       "  <thead>\n",
       "    <tr style=\"text-align: right;\">\n",
       "      <th></th>\n",
       "      <th>Country Code</th>\n",
       "      <th>Country</th>\n",
       "    </tr>\n",
       "  </thead>\n",
       "  <tbody>\n",
       "    <tr>\n",
       "      <th>0</th>\n",
       "      <td>1</td>\n",
       "      <td>India</td>\n",
       "    </tr>\n",
       "    <tr>\n",
       "      <th>1</th>\n",
       "      <td>14</td>\n",
       "      <td>Australia</td>\n",
       "    </tr>\n",
       "    <tr>\n",
       "      <th>2</th>\n",
       "      <td>30</td>\n",
       "      <td>Brazil</td>\n",
       "    </tr>\n",
       "    <tr>\n",
       "      <th>3</th>\n",
       "      <td>37</td>\n",
       "      <td>Canada</td>\n",
       "    </tr>\n",
       "    <tr>\n",
       "      <th>4</th>\n",
       "      <td>94</td>\n",
       "      <td>Indonesia</td>\n",
       "    </tr>\n",
       "    <tr>\n",
       "      <th>5</th>\n",
       "      <td>148</td>\n",
       "      <td>New Zealand</td>\n",
       "    </tr>\n",
       "    <tr>\n",
       "      <th>6</th>\n",
       "      <td>162</td>\n",
       "      <td>Phillipines</td>\n",
       "    </tr>\n",
       "    <tr>\n",
       "      <th>7</th>\n",
       "      <td>166</td>\n",
       "      <td>Qatar</td>\n",
       "    </tr>\n",
       "    <tr>\n",
       "      <th>8</th>\n",
       "      <td>184</td>\n",
       "      <td>Singapore</td>\n",
       "    </tr>\n",
       "    <tr>\n",
       "      <th>9</th>\n",
       "      <td>189</td>\n",
       "      <td>South Africa</td>\n",
       "    </tr>\n",
       "    <tr>\n",
       "      <th>10</th>\n",
       "      <td>191</td>\n",
       "      <td>Sri Lanka</td>\n",
       "    </tr>\n",
       "    <tr>\n",
       "      <th>11</th>\n",
       "      <td>208</td>\n",
       "      <td>Turkey</td>\n",
       "    </tr>\n",
       "    <tr>\n",
       "      <th>12</th>\n",
       "      <td>214</td>\n",
       "      <td>UAE</td>\n",
       "    </tr>\n",
       "    <tr>\n",
       "      <th>13</th>\n",
       "      <td>215</td>\n",
       "      <td>United Kingdom</td>\n",
       "    </tr>\n",
       "    <tr>\n",
       "      <th>14</th>\n",
       "      <td>216</td>\n",
       "      <td>United States</td>\n",
       "    </tr>\n",
       "  </tbody>\n",
       "</table>\n",
       "</div>"
      ],
      "text/plain": [
       "    Country Code         Country\n",
       "0              1           India\n",
       "1             14       Australia\n",
       "2             30          Brazil\n",
       "3             37          Canada\n",
       "4             94       Indonesia\n",
       "5            148     New Zealand\n",
       "6            162     Phillipines\n",
       "7            166           Qatar\n",
       "8            184       Singapore\n",
       "9            189    South Africa\n",
       "10           191       Sri Lanka\n",
       "11           208          Turkey\n",
       "12           214             UAE\n",
       "13           215  United Kingdom\n",
       "14           216   United States"
      ]
     },
     "execution_count": 100,
     "metadata": {},
     "output_type": "execute_result"
    }
   ],
   "source": [
    "#import the excel file\n",
    "dataExcel=pd.read_excel('./Country-Code.xlsx')\n",
    "dataExcel"
   ]
  },
  {
   "cell_type": "code",
   "execution_count": 101,
   "metadata": {},
   "outputs": [
    {
     "data": {
      "text/plain": [
       "Index(['Country Code', 'Country'], dtype='object')"
      ]
     },
     "execution_count": 101,
     "metadata": {},
     "output_type": "execute_result"
    }
   ],
   "source": [
    "dataExcel.columns"
   ]
  },
  {
   "cell_type": "code",
   "execution_count": 102,
   "metadata": {},
   "outputs": [
    {
     "name": "stdout",
     "output_type": "stream",
     "text": [
      "Index(['Restaurant ID', 'Restaurant Name', 'Country Code', 'City', 'Address',\n",
      "       'Locality', 'Locality Verbose', 'Longitude', 'Latitude', 'Cuisines',\n",
      "       'Average Cost for two', 'Currency', 'Has Table booking',\n",
      "       'Has Online delivery', 'Is delivering now', 'Switch to order menu',\n",
      "       'Price range', 'Aggregate rating', 'Rating color', 'Rating text',\n",
      "       'Votes', 'Country'],\n",
      "      dtype='object')\n"
     ]
    }
   ],
   "source": [
    "#we need to merge both files\n",
    "final_df=pd.merge(dataset,dataExcel,on='Country Code',how='left')\n",
    "print(final_df.columns)"
   ]
  },
  {
   "cell_type": "code",
   "execution_count": 103,
   "metadata": {},
   "outputs": [
    {
     "data": {
      "text/plain": [
       "Restaurant ID             int64\n",
       "Restaurant Name          object\n",
       "Country Code              int64\n",
       "City                     object\n",
       "Address                  object\n",
       "Locality                 object\n",
       "Locality Verbose         object\n",
       "Longitude               float64\n",
       "Latitude                float64\n",
       "Cuisines                 object\n",
       "Average Cost for two      int64\n",
       "Currency                 object\n",
       "Has Table booking        object\n",
       "Has Online delivery      object\n",
       "Is delivering now        object\n",
       "Switch to order menu     object\n",
       "Price range               int64\n",
       "Aggregate rating        float64\n",
       "Rating color             object\n",
       "Rating text              object\n",
       "Votes                     int64\n",
       "Country                  object\n",
       "dtype: object"
      ]
     },
     "execution_count": 103,
     "metadata": {},
     "output_type": "execute_result"
    }
   ],
   "source": [
    "final_df.dtypes"
   ]
  },
  {
   "cell_type": "code",
   "execution_count": 104,
   "metadata": {},
   "outputs": [],
   "source": [
    "final_df.Country.value_counts() # Table these will the each country counts\n",
    "x=final_df.Country.value_counts().values # X these  will give the count in the form of array with out the country names\n",
    "y=final_df.Country.value_counts().index #y"
   ]
  },
  {
   "cell_type": "code",
   "execution_count": 105,
   "metadata": {},
   "outputs": [
    {
     "data": {
      "image/png": "[encoded data removed]",
      "text/plain": [
       "<Figure size 640x480 with 1 Axes>"
      ]
     },
     "metadata": {},
     "output_type": "display_data"
    }
   ],
   "source": [
    "# from the above information we can draw the pie chart with precentage\n",
    "import matplotlib.pyplot as plt\n",
    "plt.pie(x, labels=y, autopct='%1.2f%%')\n",
    "plt.title(\"Country wise count in ordering the food from zomato\")\n",
    "plt.show()"
   ]
  },
  {
   "cell_type": "code",
   "execution_count": 106,
   "metadata": {},
   "outputs": [
    {
     "data": {
      "image/png": "[encoded data removed]",
      "text/plain": [
       "<Figure size 640x480 with 1 Axes>"
      ]
     },
     "metadata": {},
     "output_type": "display_data"
    },
    {
     "data": {
      "text/plain": [
       "<Figure size 1000x3100 with 0 Axes>"
      ]
     },
     "execution_count": 106,
     "metadata": {},
     "output_type": "execute_result"
    },
    {
     "data": {
      "text/plain": [
       "<Figure size 1000x3100 with 0 Axes>"
      ]
     },
     "metadata": {},
     "output_type": "display_data"
    }
   ],
   "source": [
    "# from the above information we can draw the pie chart with precentage\n",
    "#TOP 3 COUNTRIES\n",
    "import matplotlib.pyplot as plt\n",
    "plt.pie(x[:3], labels=y[:3], autopct='%1.2f%%',colors=['lightblue','black','pink'])\n",
    "plt.title(\"Country wise count in ordering the food from zomato\")\n",
    "plt.show()\n",
    "plt.figure(figsize=(10,31))"
   ]
  },
  {
   "cell_type": "code",
   "execution_count": 122,
   "metadata": {},
   "outputs": [
    {
     "name": "stdout",
     "output_type": "stream",
     "text": [
      "   Aggregate rating Rating color Rating text  rating_counts\n",
      "0               0.0        White   Not rated           2148\n",
      "1               1.8          Red        Poor              1\n",
      "2               1.9          Red        Poor              2\n",
      "3               2.0          Red        Poor              7\n",
      "4               2.1          Red        Poor             15\n",
      "5               2.2          Red        Poor             27\n",
      "6               2.3          Red        Poor             47\n",
      "7               2.4          Red        Poor             87\n",
      "8               2.5       Orange     Average            110\n",
      "9               2.6       Orange     Average            191\n"
     ]
    }
   ],
   "source": [
    "#Relationship between the variables\n",
    "final_df.groupby(['Aggregate rating','Rating color','Rating text']).size()\n",
    "final_df.groupby(['Aggregate rating','Rating color','Rating text']).size().reset_index()\n",
    "rating=final_df.groupby(['Aggregate rating','Rating color','Rating text']).size().reset_index().rename(columns={0:'rating_counts'})\n",
    "print(rating.head(10))"
   ]
  },
  {
   "cell_type": "code",
   "execution_count": 117,
   "metadata": {},
   "outputs": [
    {
     "name": "stdout",
     "output_type": "stream",
     "text": [
      "Rating color\n",
      "Dark Green     301\n",
      "Green         1079\n",
      "Orange        3737\n",
      "Red            186\n",
      "White         2148\n",
      "Yellow        2100\n",
      "Name: rating_counts, dtype: int64\n"
     ]
    },
    {
     "data": {
      "text/plain": [
       "Index(['Dark Green', 'Green', 'Orange', 'Red', 'White', 'Yellow'], dtype='object', name='Rating color')"
      ]
     },
     "execution_count": 117,
     "metadata": {},
     "output_type": "execute_result"
    }
   ],
   "source": [
    "# Bar Chart for Rating Counts by Rating Color\n",
    "\n",
    "x=rating['rating_counts']\n",
    "#print(x)\n",
    "y=rating['Rating color'].value_counts().index\n",
    "y\n",
    "\n",
    "aggregate=rating.groupby('Rating color')['rating_counts'].sum()\n",
    "print(aggregate)\n",
    "\n",
    "# rating_summary = rating.groupby('Rating color')['rating_counts'].sum()\n",
    "# rating_summary\n",
    "aggregate.values\n",
    "aggregate.index"
   ]
  },
  {
   "cell_type": "code",
   "execution_count": 120,
   "metadata": {},
   "outputs": [
    {
     "data": {
      "text/plain": [
       "<BarContainer object of 6 artists>"
      ]
     },
     "execution_count": 120,
     "metadata": {},
     "output_type": "execute_result"
    },
    {
     "data": {
      "image/png": "[encoded data removed]",
      "text/plain": [
       "<Figure size 640x480 with 1 Axes>"
      ]
     },
     "metadata": {},
     "output_type": "display_data"
    }
   ],
   "source": [
    "# for the above observation we need to do visualization\n",
    "plt.bar(aggregate.index,aggregate.values,color=['pink', 'Green', 'Orange', 'Red', 'White', 'Yellow'])"
   ]
  },
  {
   "cell_type": "code",
   "execution_count": 124,
   "metadata": {},
   "outputs": [
    {
     "data": {
      "text/plain": [
       "<Axes: xlabel='Rating color', ylabel='count'>"
      ]
     },
     "execution_count": 124,
     "metadata": {},
     "output_type": "execute_result"
    },
    {
     "data": {
      "image/png": "[encoded data removed]",
      "text/plain": [
       "<Figure size 640x480 with 1 Axes>"
      ]
     },
     "metadata": {},
     "output_type": "display_data"
    }
   ],
   "source": [
    "# for categorical data we use the countplot\n",
    "sns.countplot(x='Rating color',data=rating)"
   ]
  },
  {
   "cell_type": "code",
   "execution_count": null,
   "metadata": {},
   "outputs": [],
   "source": []
  }
 ],
 "metadata": {
  "kernelspec": {
   "display_name": "base",
   "language": "python",
   "name": "python3"
  },
  "language_info": {
   "codemirror_mode": {
    "name": "ipython",
    "version": 3
   },
   "file_extension": ".py",
   "mimetype": "text/x-python",
   "name": "python",
   "nbconvert_exporter": "python",
   "pygments_lexer": "ipython3",
   "version": "3.12.4"
  }
 },
 "nbformat": 4,
 "nbformat_minor": 2
}
